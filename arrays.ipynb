{
 "cells": [
  {
   "cell_type": "markdown",
   "metadata": {},
   "source": [
    "# 1 - Arrays"
   ]
  },
  {
   "cell_type": "markdown",
   "metadata": {},
   "source": [
    "#### 1.1 Is Unique: Implement an algorithm to determine if a string has all unique characters. What if you cannot use additional data structures?"
   ]
  },
  {
   "cell_type": "code",
   "execution_count": 3,
   "metadata": {},
   "outputs": [],
   "source": [
    "def is_unique_chars(str):\n",
    "    if len(str) > 128:\n",
    "        return False\n",
    "    checker = 0\n",
    "    for chr in str:\n",
    "        val = ord(chr)\n",
    "        if val >= 128 or val < 0:\n",
    "            print('chars out of scope!')\n",
    "            return False\n",
    "        if checker & (1<<val) > 0:\n",
    "            return False\n",
    "        checker |= 1<<val\n",
    "        \n",
    "    return True    "
   ]
  },
  {
   "cell_type": "code",
   "execution_count": 27,
   "metadata": {},
   "outputs": [],
   "source": [
    "str_ ='Hi mate'"
   ]
  },
  {
   "cell_type": "code",
   "execution_count": 28,
   "metadata": {},
   "outputs": [
    {
     "name": "stdout",
     "output_type": "stream",
     "text": [
      "True\n"
     ]
    }
   ],
   "source": [
    "print(is_unique_chars(str_))"
   ]
  },
  {
   "cell_type": "markdown",
   "metadata": {},
   "source": [
    "#### 1.2 Check Permutation: Given two strings, write a method to decide if one is a permutation of the other.\n"
   ]
  },
  {
   "cell_type": "markdown",
   "metadata": {},
   "source": [
    " - Check if case sensitive\n",
    " - is whitespace significant?\n"
   ]
  },
  {
   "cell_type": "code",
   "execution_count": 11,
   "metadata": {},
   "outputs": [],
   "source": [
    "a = sorted(\"hello\")"
   ]
  },
  {
   "cell_type": "code",
   "execution_count": 29,
   "metadata": {},
   "outputs": [],
   "source": [
    "# Sort strings\n",
    "def sortstr(str_):\n",
    "    return sorted(str_)\n",
    "\n",
    "def is_permutation(str1, str2):\n",
    "    if len(str1) != len(str2):\n",
    "        return False\n",
    "    return sorted(str1) == sorted(str2)\n",
    "\n",
    "    "
   ]
  },
  {
   "cell_type": "code",
   "execution_count": 15,
   "metadata": {},
   "outputs": [
    {
     "data": {
      "text/plain": [
       "False"
      ]
     },
     "execution_count": 15,
     "metadata": {},
     "output_type": "execute_result"
    }
   ],
   "source": [
    "a = 'papapamon'; b = 'monpapaap'\n",
    "c = 'papamovil'\n",
    "is_permutation(a,c)"
   ]
  },
  {
   "cell_type": "markdown",
   "metadata": {},
   "source": [
    "#### 1.3\n",
    "URLify: Write a method to replace all spaces in a string with '%2e: You may assume that the string has sufficient space at the end to hold the additional characters, and that you are given the \"true\" length of the string. (Note: if implementing in Java, please use a character array so that you can perform this operation in place.)\n",
    "SOLUTION\n",
    "EXAMPLE\n",
    "Input: \"Mr John Smith JJ, 13 Output: \"Mr%2eJohn%2eSmith\""
   ]
  },
  {
   "cell_type": "code",
   "execution_count": 19,
   "metadata": {},
   "outputs": [],
   "source": [
    "input_ = 'Mr John Smith JJ'\n",
    "input_len = 13"
   ]
  },
  {
   "cell_type": "code",
   "execution_count": 22,
   "metadata": {},
   "outputs": [
    {
     "data": {
      "text/plain": [
       "[15, 14, 13, 12, 11, 10, 9, 8, 7, 6, 5, 4, 3, 2]"
      ]
     },
     "execution_count": 22,
     "metadata": {},
     "output_type": "execute_result"
    }
   ],
   "source": [
    "range(15,1,-1)"
   ]
  },
  {
   "cell_type": "code",
   "execution_count": 65,
   "metadata": {},
   "outputs": [],
   "source": [
    "a = bytearray('hello mama')"
   ]
  },
  {
   "cell_type": "code",
   "execution_count": 66,
   "metadata": {},
   "outputs": [
    {
     "data": {
      "text/plain": [
       "bytearray(b'hello mama')"
      ]
     },
     "execution_count": 66,
     "metadata": {},
     "output_type": "execute_result"
    }
   ],
   "source": [
    "a"
   ]
  },
  {
   "cell_type": "code",
   "execution_count": 61,
   "metadata": {},
   "outputs": [],
   "source": [
    "def urlify(str_, in_len):\n",
    "    str_ = list(str_)\n",
    "    # 1 - count whitespaces: O(n)\n",
    "    n_white = count_white(str_, in_len)\n",
    "    final_len = in_len + 2*n_white\n",
    "    assert len(str_) >= final_len\n",
    "    \n",
    "    # 2 - traverse the array inversely \n",
    "    r_url = final_len-1\n",
    "    for r in range(in_len-1,0,-1):\n",
    "        if str_[r] == ' ':\n",
    "            str_[r_url-2] = '%'\n",
    "            str_[r_url-1] = '2'\n",
    "            str_[r_url] = '0'\n",
    "            r_url -= 3\n",
    "        else : \n",
    "            str_[r_url] = str_[r]\n",
    "            r_url -= 1\n",
    "    return ''.join(str_)\n",
    "        \n",
    "        \n",
    "def count_white(in_str, in_len):\n",
    "    count = 0\n",
    "    for i in range(in_len):\n",
    "        if in_str[i] == ' ':\n",
    "            count += 1\n",
    "    return count"
   ]
  },
  {
   "cell_type": "code",
   "execution_count": 62,
   "metadata": {},
   "outputs": [
    {
     "data": {
      "text/plain": [
       "'my%20home'"
      ]
     },
     "execution_count": 62,
     "metadata": {},
     "output_type": "execute_result"
    }
   ],
   "source": [
    "urlify('my home  ', 7)"
   ]
  },
  {
   "cell_type": "markdown",
   "metadata": {},
   "source": [
    "#### 1.4\n",
    "Palindrome Permutation: Given a string, write a function to check if it is a permutation of a palindrome. A palindrome is a word or phrase that is the same forwards and backwards. A permutation is a rearrangement of letters. The palindrome does not need to be limited to just dictionary words."
   ]
  },
  {
   "cell_type": "markdown",
   "metadata": {},
   "source": [
    "EXAMPLE\n",
    "\n",
    "Input: Tact Coa\n",
    "\n",
    "Output: True (permutations:\"taco cat'; \"atco cta '; etc.)"
   ]
  },
  {
   "cell_type": "code",
   "execution_count": 87,
   "metadata": {},
   "outputs": [],
   "source": [
    "from collections import defaultdict"
   ]
  },
  {
   "cell_type": "code",
   "execution_count": 88,
   "metadata": {},
   "outputs": [],
   "source": [
    "a = defaultdict(int)"
   ]
  },
  {
   "cell_type": "code",
   "execution_count": 103,
   "metadata": {},
   "outputs": [],
   "source": [
    "def is_char(ch):\n",
    "    if (ch >= 'A' and ch <='Z') or (ch >= 'a' and ch <='z'):\n",
    "        return True\n",
    "    return False\n",
    "\n",
    "def char_count(phrase):\n",
    "    counter = defaultdict(int)\n",
    "    for c in phrase:\n",
    "        if not is_char(c):\n",
    "            continue \n",
    "        counter[c] += 1\n",
    "    return counter\n",
    "\n",
    "def is_pali_perm(phrase):\n",
    "    # 1 - count characters in array : O(n * 1)\n",
    "    counter = char_count(phrase)\n",
    "    \n",
    "    # 2 - check if counters are even numbers except one\n",
    "    middle = 0\n",
    "    for key,val in counter.items():\n",
    "        if val %2 != 0:\n",
    "            middle +=1\n",
    "            if middle >1:\n",
    "                return False\n",
    "    \n",
    "    return True"
   ]
  },
  {
   "cell_type": "code",
   "execution_count": 107,
   "metadata": {},
   "outputs": [
    {
     "data": {
      "text/plain": [
       "True"
      ]
     },
     "execution_count": 107,
     "metadata": {},
     "output_type": "execute_result"
    }
   ],
   "source": [
    "is_pali_perm('tacot tcato')"
   ]
  },
  {
   "cell_type": "markdown",
   "metadata": {},
   "source": [
    "#### 1.6 \n",
    "One Away: There are three types of edits that can be performed on strings: insert a character, remove a character, or replace a character. Given two strings, write a function to check if they are one edit (or zero edits) away."
   ]
  },
  {
   "cell_type": "markdown",
   "metadata": {},
   "source": [
    "EXAMPLE \n",
    "\n",
    "pale, ple -) true \n",
    "\n",
    "pales, pale - ) true \n",
    "\n",
    "pale, bale -) true \n",
    "\n",
    "pale, bae -) false"
   ]
  },
  {
   "cell_type": "code",
   "execution_count": 108,
   "metadata": {},
   "outputs": [
    {
     "data": {
      "text/plain": [
       "5"
      ]
     },
     "execution_count": 108,
     "metadata": {},
     "output_type": "execute_result"
    }
   ],
   "source": [
    "abs(-5)"
   ]
  },
  {
   "cell_type": "code",
   "execution_count": 123,
   "metadata": {},
   "outputs": [],
   "source": [
    "def is_diff_bigger(str1, str2, unbalanced = False):\n",
    "    count = False\n",
    "    j = 0\n",
    "    for i in range(len(str2)):\n",
    "        if str1[j] != str2[i]:\n",
    "            if count == True:\n",
    "                return True\n",
    "            count = True\n",
    "            if unbalanced:\n",
    "                j += 1\n",
    "        j +=1\n",
    "    return count\n",
    "    \n",
    "def one_edit(str1, str2):\n",
    "    len1, len2 = len(str1), len(str2)\n",
    "    diff =  len1 - len2\n",
    "    if abs(diff) > 1:\n",
    "        return False\n",
    "    \n",
    "    is_diff = False\n",
    "    \n",
    "    if diff == 0:\n",
    "        is_diff = is_diff_bigger(str1, str2)\n",
    "    elif diff == 1:\n",
    "        is_diff = is_diff_bigger(str1, str2, True)\n",
    "    else:\n",
    "        is_diff = is_diff_bigger(str2, str1, True)\n",
    "\n",
    "    return not is_diff\n",
    "        "
   ]
  },
  {
   "cell_type": "code",
   "execution_count": 127,
   "metadata": {},
   "outputs": [
    {
     "data": {
      "text/plain": [
       "True"
      ]
     },
     "execution_count": 127,
     "metadata": {},
     "output_type": "execute_result"
    }
   ],
   "source": [
    "one_edit('pale', 'pal')"
   ]
  },
  {
   "cell_type": "markdown",
   "metadata": {},
   "source": [
    "#### 1.6 \n",
    "String Compression: Implement a method to perform basic string compression using the counts of repeated characters. For example, the string aabcccccaaa would become a2blc5a3. If the \"compressed\"string would not become smaller than the original string, your method should return the original string. You can assume the string has only uppercase and lowercase letters (a - z).\n"
   ]
  },
  {
   "cell_type": "code",
   "execution_count": 130,
   "metadata": {},
   "outputs": [],
   "source": [
    "a = list()"
   ]
  },
  {
   "cell_type": "code",
   "execution_count": 131,
   "metadata": {},
   "outputs": [
    {
     "data": {
      "text/plain": [
       "list"
      ]
     },
     "execution_count": 131,
     "metadata": {},
     "output_type": "execute_result"
    }
   ],
   "source": [
    "type(a)"
   ]
  },
  {
   "cell_type": "code",
   "execution_count": 137,
   "metadata": {},
   "outputs": [
    {
     "data": {
      "text/plain": [
       "'2'"
      ]
     },
     "execution_count": 137,
     "metadata": {},
     "output_type": "execute_result"
    }
   ],
   "source": [
    "str(2)"
   ]
  },
  {
   "cell_type": "code",
   "execution_count": 145,
   "metadata": {},
   "outputs": [],
   "source": [
    "def str_zip(uncompressed):\n",
    "    n = len(uncompressed)\n",
    "    if n == 0:\n",
    "        return uncompressed\n",
    "    \n",
    "    str_builder = list()\n",
    "    counter = 1\n",
    "    for i in range(1,n):\n",
    "        if uncompressed[i] != uncompressed[i-1]:\n",
    "            str_builder.extend([uncompressed[i-1], str(counter)])\n",
    "            counter = 1\n",
    "        else:\n",
    "            counter += 1\n",
    "    str_builder.extend([uncompressed[n-1], str(counter)])\n",
    "    \n",
    "    if len(str_builder) < uncompressed :\n",
    "        return ''.join(str_builder)\n",
    "    return uncompressed\n",
    "        "
   ]
  },
  {
   "cell_type": "code",
   "execution_count": 146,
   "metadata": {},
   "outputs": [
    {
     "data": {
      "text/plain": [
       "'a2b1c5a3'"
      ]
     },
     "execution_count": 146,
     "metadata": {},
     "output_type": "execute_result"
    }
   ],
   "source": [
    "str_zip('aabcccccaaa')"
   ]
  },
  {
   "cell_type": "markdown",
   "metadata": {},
   "source": [
    "#### 1.7 Rotate Matrix: Given an image represented by an NxN matrix, where each pixel in the image is 4 bytes, write a method to rotate the image by 90 degrees. Can you do this in place?"
   ]
  },
  {
   "cell_type": "code",
   "execution_count": 244,
   "metadata": {},
   "outputs": [],
   "source": [
    "def rotate(m):\n",
    "    N = len(m)\n",
    "    \n",
    "    for j in range(N//2):\n",
    "        for i in range(j, N-1-j):\n",
    "            temp = m[j][i]\n",
    "            m[j][i] = m[N-i-1][j]\n",
    "            m[N-i-1][j] = m[N-1-j][N-i-1]\n",
    "            m[N-1-j][N-i-1] = m[i][N-1-j]\n",
    "            m[i][N-1-j] = temp\n",
    "    return m"
   ]
  },
  {
   "cell_type": "code",
   "execution_count": 245,
   "metadata": {},
   "outputs": [],
   "source": [
    "m = [[1,2,3,4],[5,6,7,8],[9,10,11,12],[13,14,15,16]]"
   ]
  },
  {
   "cell_type": "code",
   "execution_count": 241,
   "metadata": {},
   "outputs": [
    {
     "data": {
      "text/plain": [
       "[[1, 2, 3, 4], [5, 6, 7, 8], [9, 10, 11, 12], [13, 14, 15, 16]]"
      ]
     },
     "execution_count": 241,
     "metadata": {},
     "output_type": "execute_result"
    }
   ],
   "source": [
    "m"
   ]
  },
  {
   "cell_type": "code",
   "execution_count": 246,
   "metadata": {},
   "outputs": [
    {
     "data": {
      "text/plain": [
       "[[13, 9, 5, 1], [14, 10, 6, 2], [15, 11, 7, 3], [16, 12, 8, 4]]"
      ]
     },
     "execution_count": 246,
     "metadata": {},
     "output_type": "execute_result"
    }
   ],
   "source": [
    "rotate(m); m"
   ]
  },
  {
   "cell_type": "markdown",
   "metadata": {},
   "source": [
    "#### 1.8 Zero Matrix: Write an algorithm such that if an element in an MxN matrix is 0, its entire row and column are set to 0."
   ]
  },
  {
   "cell_type": "code",
   "execution_count": 190,
   "metadata": {},
   "outputs": [],
   "source": [
    "class Indexes:\n",
    "    values = [[]]\n",
    "#     def __init__(self, values):\n",
    "#         self.values = values\n",
    "        \n",
    "    def __getitem__(self, i):\n",
    "        if not isinstance(i, tuple):\n",
    "            i = tuple(i)\n",
    "        return values[i]\n",
    "        "
   ]
  },
  {
   "cell_type": "code",
   "execution_count": 247,
   "metadata": {},
   "outputs": [
    {
     "data": {
      "text/plain": [
       "[[13, 9, 0, 1], [14, 10, 0, 2], [15, 11, 0, 3], [16, 12, 0, 4]]"
      ]
     },
     "execution_count": 247,
     "metadata": {},
     "output_type": "execute_result"
    }
   ],
   "source": [
    "make_zero_col(m, 2)"
   ]
  },
  {
   "cell_type": "code",
   "execution_count": 262,
   "metadata": {},
   "outputs": [],
   "source": [
    "def find_zeros(matrix): \n",
    "    zero_rows = []\n",
    "    zero_cols = []\n",
    "    M = len(matrix)\n",
    "    N = len(matrix[0])\n",
    "    for i in range(M):\n",
    "        for j in range(N):\n",
    "            if matrix[i][j] == 0:\n",
    "                zero_rows.append(i)\n",
    "                zero_cols.append(j)\n",
    "    return zero_rows, zero_cols\n",
    "\n",
    "def make_zero_col(matrix, c):\n",
    "    for r in range(len(matrix)):\n",
    "        matrix[r][c] = 0\n",
    "\n",
    "def make_zero_row(matrix, r):\n",
    "    matrix[r] = [0]* len(matrix[r])\n",
    "    \n",
    "def make_zeros(matrix, zero_rows, zero_cols):\n",
    "    n_rows = len(matrix)\n",
    "    n_cols = len(matrix[0])\n",
    "    for r in zero_rows:\n",
    "        make_zero_row(matrix, r)\n",
    "    \n",
    "    for c in zero_cols:\n",
    "        make_zero_col(matrix, c)\n",
    "    return matrix \n",
    "    \n",
    "    \n",
    "def zero_matrix(matrix):\n",
    "    # 1 - find zero indexes : O(MN)\n",
    "    zero_rows, zero_cols = find_zeros(matrix)\n",
    "    \n",
    "    # 2 - make rows and cols zero  O(MN + MN)\n",
    "    return make_zeros(matrix, zero_rows, zero_cols)   \n",
    "            "
   ]
  },
  {
   "cell_type": "code",
   "execution_count": 263,
   "metadata": {},
   "outputs": [],
   "source": [
    "m = [[1,2,3,4],[5,6,7,8],[9,10,11,12],[13,14,15,16]]"
   ]
  },
  {
   "cell_type": "code",
   "execution_count": 264,
   "metadata": {},
   "outputs": [],
   "source": [
    "m[1][2] = 0"
   ]
  },
  {
   "cell_type": "code",
   "execution_count": 265,
   "metadata": {},
   "outputs": [
    {
     "data": {
      "text/plain": [
       "[[1, 2, 3, 4], [5, 6, 0, 8], [9, 10, 11, 12], [13, 14, 15, 16]]"
      ]
     },
     "execution_count": 265,
     "metadata": {},
     "output_type": "execute_result"
    }
   ],
   "source": [
    "m"
   ]
  },
  {
   "cell_type": "code",
   "execution_count": 266,
   "metadata": {},
   "outputs": [
    {
     "data": {
      "text/plain": [
       "[[1, 2, 0, 4], [0, 0, 0, 0], [9, 10, 0, 12], [13, 14, 0, 16]]"
      ]
     },
     "execution_count": 266,
     "metadata": {},
     "output_type": "execute_result"
    }
   ],
   "source": [
    "zero_matrix(m)"
   ]
  },
  {
   "cell_type": "markdown",
   "metadata": {},
   "source": [
    "#### 1.9 String Rotation: Assume you have a method i 5 S u b s t r i n g which checks ifone word is a substring of another. Given two strings, 51 and 52, write code to check if 52 is a rotation of 51 using only one call to isSubstring (e.g., Uwaterbottleuis a rotation ofuerbottlewatU)."
   ]
  },
  {
   "cell_type": "raw",
   "metadata": {},
   "source": [
    "isSubstring(s1s1, s2)"
   ]
  },
  {
   "cell_type": "markdown",
   "metadata": {},
   "source": [
    "# 2 - Linked Lists"
   ]
  },
  {
   "cell_type": "code",
   "execution_count": 270,
   "metadata": {},
   "outputs": [],
   "source": [
    "class Node:\n",
    "    \"\"\"\n",
    "    A Node in a Singly linked list\n",
    "    \"\"\"\n",
    "    def __init__(self, data=None, next=None):\n",
    "        self.data = data\n",
    "        self.next = next\n",
    "    \n",
    "    def __repr__(self):\n",
    "        return repr(self.data)"
   ]
  },
  {
   "cell_type": "code",
   "execution_count": 301,
   "metadata": {},
   "outputs": [],
   "source": [
    "class SinglyLinkedList:\n",
    "    def __init__(self):\n",
    "        \"\"\"\n",
    "        Creates a singly linked list\n",
    "        \"\"\"\n",
    "        self.head = None\n",
    "    \n",
    "    def __repr__(self):\n",
    "        \"\"\"\n",
    "        Returns a string representation of the list. O(n)\n",
    "        \"\"\"\n",
    "        nodes = []\n",
    "        curr = self.head\n",
    "        while curr:\n",
    "            nodes.append(repr(curr))\n",
    "            curr = curr.next\n",
    "        return '[' + ', '.join(nodes) + ']'\n",
    "    \n",
    "    def prepend(self, data):\n",
    "        \"\"\"\n",
    "        Insert an element as the first element. O(1)\n",
    "        \"\"\"\n",
    "        self.head = Node(data, next=self.head)\n",
    "        \n",
    "    def append(self, data):\n",
    "        \"\"\"\n",
    "        Insert an element at the end of the list. O(n)\n",
    "        \"\"\"\n",
    "        if not self.head:\n",
    "            self.head = Node(data)\n",
    "            return\n",
    "        curr = self.head\n",
    "        while curr.next:\n",
    "            curr = curr.next\n",
    "        curr.next = Node(data)\n",
    "        \n",
    "    def find(self, key):\n",
    "        \"\"\"\n",
    "        Search for the first element with data matching key. O(n)\n",
    "        \"\"\"\n",
    "        curr = self.head\n",
    "        while curr and curr.data !=key:\n",
    "            curr = curr.next\n",
    "        return curr # None if not found\n",
    "    \n",
    "    def remove(self, key):\n",
    "        \"\"\"\n",
    "        Remove an element from the list. The first ocurrence. O(n)\n",
    "        \"\"\"\n",
    "        curr = self.head\n",
    "        prev = curr\n",
    "        \n",
    "        while curr and curr.data != key:\n",
    "            prev = curr\n",
    "            curr = curr.next\n",
    "        \n",
    "        if prev == curr:\n",
    "            self.head = curr.next\n",
    "        elif curr:\n",
    "            prev.next = curr.next\n",
    "            curr.next = None\n",
    "    \n",
    "    def insert(self, data):\n",
    "        \"\"\"\n",
    "        Insert an element at the position n. O(n)\n",
    "        \"\"\"\n",
    "        curr = self.head\n",
    "        prev = curr\n",
    "        \n",
    "        while curr and curr.data < data:\n",
    "            prev = curr\n",
    "            curr = curr.next\n",
    "        \n",
    "        if curr:\n",
    "            if prev != curr: #found an element. Not first\n",
    "                prev.next = Node(data, next=curr)\n",
    "            else: #found element. First\n",
    "                self.head = Node(data, next = curr)\n",
    "        else: \n",
    "            if prev: # reached end of list\n",
    "                prev.next = Node(data)\n",
    "            else: # List is empty\n",
    "                self.head = Node(data)\n",
    "    \n",
    "    def reverse(self):\n",
    "        \"\"\"\n",
    "        Reverse links of list\n",
    "        \"\"\"\n",
    "        \n",
    "        curr = self.head\n",
    "        prev_node = None\n",
    "        next_node = None\n",
    "        while curr:\n",
    "            next_node = curr.next\n",
    "            curr.next = prev_node\n",
    "            prev_node = curr\n",
    "            curr = next_node\n",
    "        self.head = prev_node"
   ]
  },
  {
   "cell_type": "code",
   "execution_count": 319,
   "metadata": {},
   "outputs": [
    {
     "data": {
      "text/plain": [
       "[6, 5]"
      ]
     },
     "execution_count": 319,
     "metadata": {},
     "output_type": "execute_result"
    }
   ],
   "source": [
    "a = SinglyLinkedList()\n",
    "\n",
    "a.append(5)\n",
    "\n",
    "a.prepend(10)\n",
    "\n",
    "a.insert(6)\n",
    "\n",
    "a.remove(10)\n",
    "\n",
    "a"
   ]
  },
  {
   "cell_type": "markdown",
   "metadata": {},
   "source": [
    "## Doubly Linked List"
   ]
  },
  {
   "cell_type": "code",
   "execution_count": 322,
   "metadata": {},
   "outputs": [],
   "source": [
    "class Node:\n",
    "    \"\"\"\n",
    "    Doubly Linked Node\n",
    "    \"\"\"\n",
    "    def __init__(self, data=None, prev=None, next=None):\n",
    "        self.data, self.prev, self.next = data, prev, next\n",
    "    def __repr__(self):\n",
    "        return repr(self.data)"
   ]
  },
  {
   "cell_type": "code",
   "execution_count": 324,
   "metadata": {},
   "outputs": [],
   "source": [
    "class DoublyLinkedList:\n",
    "    def __init__(self):\n",
    "        \"\"\"\n",
    "        Creates empry doubly linked list\n",
    "        \"\"\"\n",
    "        self.head = None\n",
    "        self.tail = None\n",
    "    \n",
    "    def __repr__(self):\n",
    "        \"\"\"\n",
    "        Print list. O(n)\n",
    "        \"\"\"\n",
    "        curr = self.head\n",
    "        content = []\n",
    "        while curr: \n",
    "            content.append(repr(curr))\n",
    "            curr = curr.next\n",
    "        return '[' + ', '.join(content)+']'\n",
    "    \n",
    "    def append(self, data):\n",
    "        self.tail.next = Node(data, self.tail, None)\n",
    "        self.tail = self.tail.next\n",
    "    \n",
    "    def preprend(self, data):\n",
    "        self.head.prev = Node(data, None, self.head)\n",
    "        self.head = self.head.prev\n",
    "        \n",
    "    \"\"\"\n",
    "    ...\n",
    "    \"\"\"\n",
    "    \n",
    "        "
   ]
  },
  {
   "cell_type": "markdown",
   "metadata": {},
   "source": [
    "#### 2.1 Remove Dups: Write code to remove duplicates from an unsorted linked list."
   ]
  },
  {
   "cell_type": "code",
   "execution_count": 326,
   "metadata": {},
   "outputs": [],
   "source": [
    "from collections import defaultdict"
   ]
  },
  {
   "cell_type": "code",
   "execution_count": 334,
   "metadata": {},
   "outputs": [],
   "source": [
    "a = defaultdict(bool)"
   ]
  },
  {
   "cell_type": "code",
   "execution_count": 378,
   "metadata": {},
   "outputs": [],
   "source": [
    "def remove_dups(sl_list):\n",
    "    checker = defaultdict(bool)\n",
    "    curr = sl_list.head\n",
    "    while curr:\n",
    "        print(checker[curr.data])\n",
    "        if checker[curr.data]:\n",
    "            temp = curr.next\n",
    "            sl_list.remove(curr.data)\n",
    "            curr = temp\n",
    "            continue\n",
    "        checker[curr.data] = True    \n",
    "        curr = curr.next\n",
    "    return sl_list"
   ]
  },
  {
   "cell_type": "code",
   "execution_count": 379,
   "metadata": {},
   "outputs": [],
   "source": [
    "a = SinglyLinkedList()\n",
    "a.append(4)\n",
    "a.append(1)\n",
    "a.append(16)\n",
    "a.append(0)\n",
    "a.append(7)\n",
    "a.append(80)\n",
    "a.append(3)\n",
    "a.append(6)\n",
    "a.append(6)\n",
    "a.append(1)\n",
    "a.append(0)\n",
    "a.append(3)"
   ]
  },
  {
   "cell_type": "code",
   "execution_count": 380,
   "metadata": {},
   "outputs": [
    {
     "data": {
      "text/plain": [
       "[4, 1, 16, 0, 7, 80, 3, 6, 6, 1, 0, 3]"
      ]
     },
     "execution_count": 380,
     "metadata": {},
     "output_type": "execute_result"
    }
   ],
   "source": [
    "a"
   ]
  },
  {
   "cell_type": "code",
   "execution_count": 381,
   "metadata": {},
   "outputs": [
    {
     "name": "stdout",
     "output_type": "stream",
     "text": [
      "False\n",
      "False\n",
      "False\n",
      "False\n",
      "False\n",
      "False\n",
      "False\n",
      "False\n",
      "True\n",
      "True\n",
      "True\n",
      "True\n"
     ]
    },
    {
     "data": {
      "text/plain": [
       "[4, 16, 7, 80, 6, 1, 0, 3]"
      ]
     },
     "execution_count": 381,
     "metadata": {},
     "output_type": "execute_result"
    }
   ],
   "source": [
    "remove_dups(a)"
   ]
  },
  {
   "cell_type": "markdown",
   "metadata": {},
   "source": [
    "NO BUFFER ALLOWED"
   ]
  },
  {
   "cell_type": "markdown",
   "metadata": {},
   "source": [
    "#### 2.2 Return Kth to Last: Implement an algorithm to find the kth to last element of a singly linked list."
   ]
  },
  {
   "cell_type": "code",
   "execution_count": 401,
   "metadata": {},
   "outputs": [],
   "source": [
    "def k_to_last_iter(node, k):\n",
    "    if not node:\n",
    "        return None, 0\n",
    "    else: \n",
    "        found_node, k_curr = k_to_last_iter(node.next, k)\n",
    "        k_curr = k_curr+1\n",
    "        if k == k_curr:\n",
    "            return node, k\n",
    "        return found_node, k_curr\n",
    "\n",
    "def k_to_last(sll, k):\n",
    "    ret = k_to_last_iter(sll.head, k)\n",
    "    return ret[0]"
   ]
  },
  {
   "cell_type": "code",
   "execution_count": 402,
   "metadata": {},
   "outputs": [
    {
     "data": {
      "text/plain": [
       "[4, 16, 7, 80, 6, 1, 0, 3]"
      ]
     },
     "execution_count": 402,
     "metadata": {},
     "output_type": "execute_result"
    }
   ],
   "source": [
    "a "
   ]
  },
  {
   "cell_type": "code",
   "execution_count": 404,
   "metadata": {},
   "outputs": [
    {
     "data": {
      "text/plain": [
       "80"
      ]
     },
     "execution_count": 404,
     "metadata": {},
     "output_type": "execute_result"
    }
   ],
   "source": [
    "k_to_last(a,5)"
   ]
  },
  {
   "cell_type": "markdown",
   "metadata": {},
   "source": [
    "#### 2.3 Delete Middle Node: Implement an algorithm to delete a node in the middle (Le., any node but the first and last node, not necessarily the exact middle) of a singly linked list, given only access to that node"
   ]
  },
  {
   "cell_type": "code",
   "execution_count": 413,
   "metadata": {},
   "outputs": [],
   "source": [
    "def add_slls(sll1, sll2):\n",
    "    curr1, curr2 = sll1.head, sll2.head\n",
    "    list_sum = SinglyLinkedList()\n",
    "#     Assuming same length \n",
    "    ten = 0\n",
    "    while curr1 and curr2:\n",
    "        sum = curr1.data + curr2.data + ten\n",
    "        print(sum)\n",
    "        digit =sum%10\n",
    "        ten = sum//10\n",
    "        list_sum.append(digit)\n",
    "        curr1 = curr1.next\n",
    "        curr2 = curr2.next\n",
    "    return list_sum\n",
    "    "
   ]
  },
  {
   "cell_type": "code",
   "execution_count": 414,
   "metadata": {},
   "outputs": [
    {
     "data": {
      "text/plain": [
       "[4, 16, 7, 80, 6, 1, 0, 3]"
      ]
     },
     "execution_count": 414,
     "metadata": {},
     "output_type": "execute_result"
    }
   ],
   "source": [
    "a"
   ]
  },
  {
   "cell_type": "code",
   "execution_count": 415,
   "metadata": {},
   "outputs": [
    {
     "name": "stdout",
     "output_type": "stream",
     "text": [
      "8\n",
      "32\n",
      "17\n",
      "161\n",
      "28\n",
      "4\n",
      "0\n",
      "6\n"
     ]
    },
    {
     "data": {
      "text/plain": [
       "[8, 2, 7, 1, 8, 4, 0, 6]"
      ]
     },
     "execution_count": 415,
     "metadata": {},
     "output_type": "execute_result"
    }
   ],
   "source": [
    "add_slls(a,a)"
   ]
  },
  {
   "cell_type": "markdown",
   "metadata": {},
   "source": [
    "#### 2.6 Palindrome: Implement a function to check if a linked list is a palindrome.\n"
   ]
  },
  {
   "cell_type": "code",
   "execution_count": 422,
   "metadata": {},
   "outputs": [],
   "source": [
    "from collections import deque"
   ]
  },
  {
   "cell_type": "code",
   "execution_count": 445,
   "metadata": {},
   "outputs": [],
   "source": [
    "def is_palindrome(sll):\n",
    "    if not sll.head:\n",
    "        return True\n",
    "    \n",
    "    p1 = sll.head\n",
    "    p2 = sll.head.next\n",
    "    chars = deque()\n",
    "    \n",
    "    # 1 - Stacking first half O(n)\n",
    "    while p2:\n",
    "        chars.append(p1.data)\n",
    "        p1 = p1.next\n",
    "        if p2.next:\n",
    "            p2 = p2.next.next\n",
    "            if not p2:\n",
    "                chars.append(p1.data)\n",
    "                p1 = p1.next\n",
    "        else:\n",
    "            p2 = None\n",
    "    \n",
    "    print(chars)\n",
    "    # 2 - destacking\n",
    "    odd = False\n",
    "    while chars and p1:\n",
    "        if chars.pop() != p1.data:\n",
    "            if odd:\n",
    "                return False\n",
    "            else:\n",
    "                odd = True\n",
    "                continue\n",
    "        p1 = p1.next \n",
    "    return True        "
   ]
  },
  {
   "cell_type": "code",
   "execution_count": 449,
   "metadata": {},
   "outputs": [],
   "source": [
    "s = SinglyLinkedList()\n",
    "s.append(6)\n",
    "s.append(7)\n",
    "s.append(2)\n",
    "# s.append(1)\n",
    "s.append(2)\n",
    "s.append(7)\n",
    "s.append(6)"
   ]
  },
  {
   "cell_type": "code",
   "execution_count": 450,
   "metadata": {},
   "outputs": [
    {
     "data": {
      "text/plain": [
       "[6, 7, 2, 2, 7, 6]"
      ]
     },
     "execution_count": 450,
     "metadata": {},
     "output_type": "execute_result"
    }
   ],
   "source": [
    "s"
   ]
  },
  {
   "cell_type": "code",
   "execution_count": 451,
   "metadata": {},
   "outputs": [
    {
     "name": "stdout",
     "output_type": "stream",
     "text": [
      "deque([6, 7, 2])\n"
     ]
    },
    {
     "data": {
      "text/plain": [
       "True"
      ]
     },
     "execution_count": 451,
     "metadata": {},
     "output_type": "execute_result"
    }
   ],
   "source": [
    "is_palindrome(s)"
   ]
  },
  {
   "cell_type": "markdown",
   "metadata": {},
   "source": [
    "# 3 - Stacks and Queues"
   ]
  },
  {
   "cell_type": "markdown",
   "metadata": {},
   "source": [
    "#### Stack"
   ]
  },
  {
   "cell_type": "code",
   "execution_count": 546,
   "metadata": {},
   "outputs": [],
   "source": [
    "class Stack:\n",
    "    def __init__(self):\n",
    "        self.stack = []\n",
    "    \n",
    "    def push(self, data):\n",
    "        self.stack.append(data)\n",
    "    \n",
    "    def pop(self):\n",
    "        return self.stack.pop()\n",
    "    \n",
    "    def is_empty(self):\n",
    "        return self.stack == []\n",
    "    \n",
    "    def peek(self):\n",
    "        if self.size() == 0:\n",
    "            return None\n",
    "        return self.stack[-1]\n",
    "    \n",
    "    def size(self):\n",
    "        return len(self.stack)"
   ]
  },
  {
   "cell_type": "markdown",
   "metadata": {},
   "source": [
    "#### Queue"
   ]
  },
  {
   "cell_type": "code",
   "execution_count": 495,
   "metadata": {},
   "outputs": [],
   "source": [
    "class Queue:\n",
    "    class QueueNode:\n",
    "        def __init__(self, value, next=None):\n",
    "            self.value = value\n",
    "            self.next = next\n",
    "            \n",
    "        def __repr__(self):\n",
    "            return repr(self.value)\n",
    "\n",
    "    def __init__(self):\n",
    "        self.first = None\n",
    "        self.last = None\n",
    "        self.len = 0\n",
    "        \n",
    "    def __repr__(self):\n",
    "        curr = self.last\n",
    "        string_builder = []\n",
    "        while curr:\n",
    "            string_builder.append(repr(curr))\n",
    "            curr = curr.next\n",
    "        \n",
    "        return '['+', '.join(string_builder)+']'\n",
    "    \n",
    "    def add(self, data):\n",
    "        node = self.QueueNode(data)\n",
    "        \n",
    "        if self.first:\n",
    "            self.first.next=node    \n",
    "        self.first = node\n",
    "        if not self.last:\n",
    "            self.last = self.first\n",
    "        self.len += 1\n",
    "    \n",
    "    def remove(self):\n",
    "        if self.len == 1:\n",
    "            self.first = None\n",
    "        node = self.last\n",
    "        self.last = self.last.next\n",
    "        self.len -= 1\n",
    "        return node\n",
    "\n",
    "    def peek(self):\n",
    "        return self.last\n",
    "    \n",
    "    def is_empty(self):\n",
    "        return self.len == 0\n",
    "    \n",
    "    \n",
    "    "
   ]
  },
  {
   "cell_type": "code",
   "execution_count": 496,
   "metadata": {},
   "outputs": [],
   "source": [
    "a = Queue()"
   ]
  },
  {
   "cell_type": "code",
   "execution_count": 497,
   "metadata": {},
   "outputs": [],
   "source": [
    "a.add(1)\n",
    "a.add(6)\n",
    "a.add(1)\n",
    "a.add(6)\n",
    "a.add(1)\n",
    "a.add(6)\n",
    "a.add(1)\n",
    "a.add(6)\n",
    "a.add(1)\n",
    "a.add(6)\n",
    "a.add(7)"
   ]
  },
  {
   "cell_type": "code",
   "execution_count": 498,
   "metadata": {},
   "outputs": [
    {
     "data": {
      "text/plain": [
       "[1, 6, 1, 6, 1, 6, 1, 6, 1, 6, 7]"
      ]
     },
     "execution_count": 498,
     "metadata": {},
     "output_type": "execute_result"
    }
   ],
   "source": [
    "a"
   ]
  },
  {
   "cell_type": "code",
   "execution_count": 499,
   "metadata": {},
   "outputs": [
    {
     "data": {
      "text/plain": [
       "1"
      ]
     },
     "execution_count": 499,
     "metadata": {},
     "output_type": "execute_result"
    }
   ],
   "source": [
    "a.remove()\n",
    "a.remove()\n",
    "a.remove()\n",
    "a.remove()\n",
    "a.remove()\n"
   ]
  },
  {
   "cell_type": "code",
   "execution_count": 500,
   "metadata": {},
   "outputs": [
    {
     "data": {
      "text/plain": [
       "[6, 1, 6, 1, 6, 7]"
      ]
     },
     "execution_count": 500,
     "metadata": {},
     "output_type": "execute_result"
    }
   ],
   "source": [
    "a"
   ]
  },
  {
   "cell_type": "markdown",
   "metadata": {},
   "source": [
    "# Inheritance"
   ]
  },
  {
   "cell_type": "code",
   "execution_count": 503,
   "metadata": {},
   "outputs": [
    {
     "name": "stdout",
     "output_type": "stream",
     "text": [
      "Marge Simpson\n",
      "Homer Simpson, 1007\n"
     ]
    }
   ],
   "source": [
    "class Person:\n",
    "\n",
    "    def __init__(self, first, last):\n",
    "        self.firstname = first\n",
    "        self.lastname = last\n",
    "\n",
    "    def Name(self):\n",
    "        return self.firstname + \" \" + self.lastname\n",
    "\n",
    "class Employee(Person):\n",
    "\n",
    "    def __init__(self, first, last, staffnum):\n",
    "        Person.__init__(self,first, last)\n",
    "        self.staffnumber = staffnum\n",
    "\n",
    "    def GetEmployee(self):\n",
    "        return self.Name() + \", \" +  self.staffnumber\n",
    "\n",
    "x = Person(\"Marge\", \"Simpson\")\n",
    "y = Employee(\"Homer\", \"Simpson\", \"1007\")\n",
    "\n",
    "print(x.Name())\n",
    "print(y.GetEmployee())"
   ]
  },
  {
   "cell_type": "markdown",
   "metadata": {},
   "source": [
    "#### Stack of Plates: Imagine a (literal) stack of plates. If the stack gets too high, it might topple. Therefore, in real life, we would likely start a new stack when the previous stack exceeds some threshold. Implement a data structure SetOfStacks that mimics this. SetOfStacks should be composed of several stacks and should create a new stack once the previous one exceeds capacity. SetOfStacks. push () and SetOfStacks. pop() should behave identically to a single stack (that is, pop ( ) should return the same values as it would if there were just a single stack).\n"
   ]
  },
  {
   "cell_type": "code",
   "execution_count": 510,
   "metadata": {},
   "outputs": [],
   "source": [
    "class SetOfStacks:\n",
    "    def __init__(self, max_size):\n",
    "        self.stacks = Stack()\n",
    "        self.max_size = max_size\n",
    "    \n",
    "    def push(self, value):\n",
    "        if self.stacks.size() == 0:\n",
    "            self.stacks.push(Stack())\n",
    "        last = self.stacks.peek()\n",
    "        if last.size() == self.max_size:\n",
    "            self.stacks.push(Stack())\n",
    "            last = self.stacks.peek()\n",
    "        last.push(value)\n",
    "    \n",
    "    def pop(self):\n",
    "        if self.stacks.size() == 0:\n",
    "            return None\n",
    "        last = self.stacks.peek()\n",
    "        if last.size() == 0:\n",
    "            self.stacks.pop()\n",
    "            last = self.stacks.peek()\n",
    "        return last.pop()\n",
    "    \n",
    "    def get_no_stacks(self):\n",
    "        return self.stacks.size()\n",
    "    \n",
    "    def get_last_stack_capacity(self):\n",
    "        last = self.stacks.peek()\n",
    "        return last.size()"
   ]
  },
  {
   "cell_type": "code",
   "execution_count": 511,
   "metadata": {},
   "outputs": [],
   "source": [
    "n = SetOfStacks(10)"
   ]
  },
  {
   "cell_type": "code",
   "execution_count": 516,
   "metadata": {},
   "outputs": [],
   "source": [
    "for i in range(13):\n",
    "    n.push(i)"
   ]
  },
  {
   "cell_type": "code",
   "execution_count": 517,
   "metadata": {},
   "outputs": [
    {
     "data": {
      "text/plain": [
       "2"
      ]
     },
     "execution_count": 517,
     "metadata": {},
     "output_type": "execute_result"
    }
   ],
   "source": [
    "n.get_no_stacks()"
   ]
  },
  {
   "cell_type": "code",
   "execution_count": 518,
   "metadata": {},
   "outputs": [
    {
     "data": {
      "text/plain": [
       "3"
      ]
     },
     "execution_count": 518,
     "metadata": {},
     "output_type": "execute_result"
    }
   ],
   "source": [
    "n.get_last_stack_capacity()"
   ]
  },
  {
   "cell_type": "markdown",
   "metadata": {},
   "source": [
    "#### 3.4 Queue via Stacks: Implement a MyQueue class which implements a queue using two stacks. "
   ]
  },
  {
   "cell_type": "code",
   "execution_count": 547,
   "metadata": {},
   "outputs": [],
   "source": [
    "class MyQueue:\n",
    "    def __init__(self):\n",
    "        self.newest = Stack()\n",
    "        self.oldest = Stack()\n",
    "    \n",
    "    def size(self):\n",
    "        return self.newest.size() + seld.oldest.size()\n",
    "    \n",
    "    def push(self, value):\n",
    "        self.newest.push(value)\n",
    "    \n",
    "    def pop(self):\n",
    "        if self.oldest.size() == 0:\n",
    "            self.move_new_to_old()\n",
    "        return self.oldest.pop()\n",
    "    \n",
    "    def move_new_to_old(self):\n",
    "        while self.newest.size() != 0:\n",
    "            self.oldest.push(self.newest.pop())"
   ]
  },
  {
   "cell_type": "code",
   "execution_count": 548,
   "metadata": {},
   "outputs": [],
   "source": [
    "q = MyQueue()"
   ]
  },
  {
   "cell_type": "code",
   "execution_count": 549,
   "metadata": {},
   "outputs": [],
   "source": [
    "for i in range(15):\n",
    "    q.push(i)"
   ]
  },
  {
   "cell_type": "code",
   "execution_count": 550,
   "metadata": {},
   "outputs": [
    {
     "data": {
      "text/plain": [
       "0"
      ]
     },
     "execution_count": 550,
     "metadata": {},
     "output_type": "execute_result"
    }
   ],
   "source": [
    "q.pop()"
   ]
  },
  {
   "cell_type": "code",
   "execution_count": 551,
   "metadata": {},
   "outputs": [
    {
     "data": {
      "text/plain": [
       "0"
      ]
     },
     "execution_count": 551,
     "metadata": {},
     "output_type": "execute_result"
    }
   ],
   "source": [
    "q.newest.size()"
   ]
  },
  {
   "cell_type": "code",
   "execution_count": 552,
   "metadata": {},
   "outputs": [
    {
     "data": {
      "text/plain": [
       "14"
      ]
     },
     "execution_count": 552,
     "metadata": {},
     "output_type": "execute_result"
    }
   ],
   "source": [
    "q.oldest.size()"
   ]
  },
  {
   "cell_type": "code",
   "execution_count": 553,
   "metadata": {},
   "outputs": [],
   "source": [
    "q.move_new_to_old()"
   ]
  },
  {
   "cell_type": "code",
   "execution_count": 554,
   "metadata": {},
   "outputs": [],
   "source": [
    "q.newest.peek()"
   ]
  },
  {
   "cell_type": "markdown",
   "metadata": {},
   "source": [
    "#### 3.5 Sort Stack: Write a program to sort a stack such that the smallest items are on the top. You can use an additional temporary stack, but you may not copy the elements into any other data structure (such as an array).The stack supports the following operations: push, pop, peek, and isEmpty."
   ]
  },
  {
   "cell_type": "code",
   "execution_count": 597,
   "metadata": {},
   "outputs": [],
   "source": [
    "def sort_stack(stack):\n",
    "    s1 = stack\n",
    "    s2 = Stack()\n",
    "    \n",
    "    while s1.size() > 0:\n",
    "        temp = s1.pop()\n",
    "        while s2.peek() > temp and s2.size() > 0:\n",
    "            s1.push(s2.pop())\n",
    "        s2.push(temp)\n",
    "    while s2.size() > 0:\n",
    "        s1.push(s2.pop())"
   ]
  },
  {
   "cell_type": "code",
   "execution_count": 598,
   "metadata": {},
   "outputs": [
    {
     "data": {
      "text/plain": [
       "[4, 7, 3, 7, 0, 5, 7, 2, 1, 0, 9, 6, 4, 3, 8]"
      ]
     },
     "execution_count": 598,
     "metadata": {},
     "output_type": "execute_result"
    }
   ],
   "source": [
    "s1 = Stack()\n",
    "\n",
    "rand = [4,7,3,7,0,5,7,2,1,0,9,6,4,3,8]\n",
    "\n",
    "for i in rand:\n",
    "    s1.push(i)\n",
    "\n",
    "s1.stack"
   ]
  },
  {
   "cell_type": "code",
   "execution_count": 599,
   "metadata": {},
   "outputs": [],
   "source": [
    "sort_stack(s1)"
   ]
  },
  {
   "cell_type": "code",
   "execution_count": 600,
   "metadata": {},
   "outputs": [
    {
     "data": {
      "text/plain": [
       "[9, 8, 7, 7, 7, 6, 5, 4, 4, 3, 3, 2, 1, 0, 0]"
      ]
     },
     "execution_count": 600,
     "metadata": {},
     "output_type": "execute_result"
    }
   ],
   "source": [
    "s1.stack"
   ]
  },
  {
   "cell_type": "markdown",
   "metadata": {},
   "source": [
    "# QuickSort"
   ]
  },
  {
   "cell_type": "code",
   "execution_count": 602,
   "metadata": {},
   "outputs": [],
   "source": [
    "def quicksort(array, left, right):\n",
    "    if left >= right:\n",
    "        return\n",
    "    pivot = array[right]\n",
    "    index = partition(array, left, right, pivot)    \n",
    "    quicksort(array, left, index-1)\n",
    "    quicksort(array, index, right)\n",
    "    \n",
    "def partition(array, left, right, pivot):\n",
    "    while left < right:\n",
    "        while array[left] < pivot:\n",
    "            left+=1\n",
    "        while array[right] > pivot:\n",
    "            right-=1\n",
    "        if left < right:\n",
    "            swapp(array, left, right)\n",
    "            left+=1\n",
    "            right-=1\n",
    "    return left\n",
    "        \n",
    "def swapp(array, left, right):\n",
    "    swapp_el = array[left]\n",
    "    array[left] = array[right]\n",
    "    array[right] = swapp_el"
   ]
  },
  {
   "cell_type": "markdown",
   "metadata": {},
   "source": [
    "# Hash Table"
   ]
  },
  {
   "cell_type": "code",
   "execution_count": 603,
   "metadata": {},
   "outputs": [],
   "source": [
    "class HashTable(object):\n",
    "    def __init__(self):\n",
    "        self.table = [None]*10000\n",
    "\n",
    "    def calculate_hash_value(self, string):\n",
    "        \"\"\"Helper function to calulate a\n",
    "        hash value from a string.\"\"\"\n",
    "        return ord(string[0]) * 100 + ord(string[1])\n",
    "        \n",
    "    def store(self, string):\n",
    "        \"\"\"Input a string that's stored in \n",
    "        the table.\"\"\"\n",
    "        hash = self.calculate_hash_value(string)\n",
    "        self.table[hash] = string\n",
    "\n",
    "    def lookup(self, string):\n",
    "        \"\"\"Return the hash value if the\n",
    "        string is already in the table.\n",
    "        Return -1 otherwise.\"\"\"\n",
    "        hash = self.calculate_hash_value(string)\n",
    "        if self.table[hash] != None:\n",
    "            return hash\n",
    "            # return self.table[hash]\n",
    "        return -1"
   ]
  },
  {
   "cell_type": "markdown",
   "metadata": {},
   "source": [
    "# Graphs "
   ]
  },
  {
   "cell_type": "code",
   "execution_count": null,
   "metadata": {},
   "outputs": [],
   "source": []
  }
 ],
 "metadata": {
  "kernelspec": {
   "display_name": "Python 3",
   "language": "python",
   "name": "python3"
  },
  "language_info": {
   "codemirror_mode": {
    "name": "ipython",
    "version": 2
   },
   "file_extension": ".py",
   "mimetype": "text/x-python",
   "name": "python",
   "nbconvert_exporter": "python",
   "pygments_lexer": "ipython2",
   "version": "2.7.15"
  }
 },
 "nbformat": 4,
 "nbformat_minor": 2
}
